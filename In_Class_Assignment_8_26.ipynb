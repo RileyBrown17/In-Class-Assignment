{
  "nbformat": 4,
  "nbformat_minor": 0,
  "metadata": {
    "colab": {
      "provenance": [],
      "authorship_tag": "ABX9TyPjUJGJY19JGTsJcrddCT3I",
      "include_colab_link": true
    },
    "kernelspec": {
      "name": "python3",
      "display_name": "Python 3"
    },
    "language_info": {
      "name": "python"
    }
  },
  "cells": [
    {
      "cell_type": "markdown",
      "metadata": {
        "id": "view-in-github",
        "colab_type": "text"
      },
      "source": [
        "<a href=\"https://colab.research.google.com/github/RileyBrown17/In-Class-Assignment/blob/main/In_Class_Assignment_8_26.ipynb\" target=\"_parent\"><img src=\"https://colab.research.google.com/assets/colab-badge.svg\" alt=\"Open In Colab\"/></a>"
      ]
    },
    {
      "cell_type": "code",
      "execution_count": null,
      "metadata": {
        "colab": {
          "base_uri": "https://localhost:8080/"
        },
        "id": "UXPbWmlrfnMG",
        "outputId": "84118b1a-a015-4e00-b8e1-c5cf9d987d6f"
      },
      "outputs": [
        {
          "output_type": "stream",
          "name": "stdout",
          "text": [
            "244.92000000000002\n"
          ]
        }
      ],
      "source": [
        "r = 3\n",
        "pi = 3.14\n",
        "h = 10\n",
        "\n",
        "Area = 2 * pi * r ** 2 + 2 * pi * r * h\n",
        "print ( Area )"
      ]
    },
    {
      "cell_type": "code",
      "source": [
        "P1 = input ('Player 1 Rock, Paper, or Scissors: ')\n",
        "P2 = input ('Player 2 Rock, Paper, or Scissors: ')\n",
        "\n",
        "if P1 == P2 :\n",
        "  print('Draw')\n",
        "elif P1 == 'Rock':\n",
        "  if P2 == 'Scissors':\n",
        "    print ('P1 Wins')\n",
        "  elif P2 == 'Paper':\n",
        "    print ('P2 Wins')\n",
        "elif P1 == 'Scissors':\n",
        "  if P2 == 'Paper':\n",
        "    print ('P1 Wins')\n",
        "  elif P2 == 'Rock':\n",
        "    print ('P2 Wins')\n",
        "elif P1 == 'Paper':\n",
        "  if P2 == 'Rock':\n",
        "    print ('P1 Wins')\n",
        "  elif P2 == 'Scissors':\n",
        "    print ('P2 Wins')"
      ],
      "metadata": {
        "id": "XdIGGvhzy49E",
        "colab": {
          "base_uri": "https://localhost:8080/"
        },
        "outputId": "f6379919-fd2a-4d91-cee4-1f36523e8de9"
      },
      "execution_count": null,
      "outputs": [
        {
          "output_type": "stream",
          "name": "stdout",
          "text": [
            "Player 1 Rock, Paper, or Scissors: Rock\n",
            "Player 2 Rock, Paper, or Scissors: Scissors\n",
            "P1 Wins\n"
          ]
        }
      ]
    },
    {
      "cell_type": "code",
      "source": [
        "Number1 = input('Number 1: ')\n",
        "Number2 = input('Number 2: ')\n",
        "Action = input('+, -, *, /, **: ')\n",
        "number1 = float(Number1)\n",
        "number2 = float(Number2)\n",
        "\n",
        "\n",
        "if Action == '+':\n",
        "  Result1 = number1 + number2\n",
        "  print(Result1)\n",
        "elif Action == \"-\":\n",
        "  Result2 = number1 - number2\n",
        "  print(Result2)\n",
        "elif Action == \"*\":\n",
        "  Result3 = number1 * number2\n",
        "  print(Result3)\n",
        "elif Action == \"/\":\n",
        "  Result4 = number1 / number2\n",
        "  print(Result4)\n",
        "elif Action == \"**\":\n",
        "  Result5 = number1 ** number2\n",
        "  print(Result5)\n",
        "else:\n",
        "  print('Error')\n",
        "\n",
        "\n"
      ],
      "metadata": {
        "id": "_NWJcWfa0ISF",
        "colab": {
          "base_uri": "https://localhost:8080/"
        },
        "outputId": "d4e5c85d-e730-4ebd-91c4-96859d6b659e"
      },
      "execution_count": null,
      "outputs": [
        {
          "output_type": "stream",
          "name": "stdout",
          "text": [
            "Number 1: 4\n",
            "Number 2: 8\n",
            "+, -, *, /, **: *\n",
            "32.0\n"
          ]
        }
      ]
    },
    {
      "cell_type": "code",
      "source": [
        "Game = input('Would you like to play Rock Paper Scissors (Y/N): ')\n",
        "\n",
        "while Game == 'Y':\n",
        "  P1 = input ('Player 1 Rock, Paper, or Scissors: ')\n",
        "  P2 = input ('Player 2 Rock, Paper, or Scissors: ')\n",
        "\n",
        "  if P1 == P2 :\n",
        "    print('Draw')\n",
        "  elif P1 == 'Rock':\n",
        "    if P2 == 'Scissors':\n",
        "      print ('P1 Wins')\n",
        "    elif P2 == 'Paper':\n",
        "      print ('P2 Wins')\n",
        "  elif P1 == 'Scissors':\n",
        "    if P2 == 'Paper':\n",
        "     print ('P1 Wins')\n",
        "    elif P2 == 'Rock':\n",
        "      print ('P2 Wins')\n",
        "  elif P1 == 'Paper':\n",
        "    if P2 == 'Rock':\n",
        "      print ('P1 Wins')\n",
        "    elif P2 == 'Scissors':\n",
        "      print ('P2 Wins')\n",
        "  Game = input('Would you like to play again (Y/N): ')"
      ],
      "metadata": {
        "id": "pQ2z3uJR-aDU",
        "colab": {
          "base_uri": "https://localhost:8080/"
        },
        "outputId": "94f1f6f0-db75-49c5-bd7e-e2b2bc59ec0c"
      },
      "execution_count": null,
      "outputs": [
        {
          "name": "stdout",
          "output_type": "stream",
          "text": [
            "Would you like to play Rock Paper Scissors (Y/N): Y\n",
            "Player 1 Rock, Paper, or Scissors: Paper\n",
            "Player 2 Rock, Paper, or Scissors: Rock\n",
            "P1 Wins\n",
            "Would you like to play again (Y/N): N\n"
          ]
        }
      ]
    },
    {
      "cell_type": "code",
      "source": [
        "flat = 5\n",
        "hourly = 2.5\n",
        "\n",
        "for h in range (1,9):\n",
        "  cost = flat + hourly * h\n",
        "  if cost < 10:\n",
        "    print(h, '10.0')\n",
        "  elif cost > 20:\n",
        "    print(h,'20.0')\n",
        "  else:\n",
        "    print(h, cost)"
      ],
      "metadata": {
        "colab": {
          "base_uri": "https://localhost:8080/"
        },
        "id": "LYehRmAIBiu4",
        "outputId": "00157def-f375-458b-f012-5cc16484c578"
      },
      "execution_count": null,
      "outputs": [
        {
          "output_type": "stream",
          "name": "stdout",
          "text": [
            "1 10.0\n",
            "2 10.0\n",
            "3 12.5\n",
            "4 15.0\n",
            "5 17.5\n",
            "6 20.0\n",
            "7 20.0\n",
            "8 20.0\n"
          ]
        }
      ]
    },
    {
      "cell_type": "code",
      "source": [
        "for ads in range (0,201,25):\n",
        "  Nticket= 20 + 2 * round(ads ** .5)\n",
        "  profit = Nticket * 10 - ads - 200\n",
        "  print(ads, profit)\n"
      ],
      "metadata": {
        "colab": {
          "base_uri": "https://localhost:8080/"
        },
        "id": "syh2gxwcDW-b",
        "outputId": "b38fc0d0-5110-4e63-c503-c35dadb418b8"
      },
      "execution_count": null,
      "outputs": [
        {
          "output_type": "stream",
          "name": "stdout",
          "text": [
            "0 0\n",
            "25 75\n",
            "50 90\n",
            "75 105\n",
            "100 100\n",
            "125 95\n",
            "150 90\n",
            "175 85\n",
            "200 80\n"
          ]
        }
      ]
    },
    {
      "cell_type": "code",
      "source": [],
      "metadata": {
        "id": "3u8khkfX5R6j"
      },
      "execution_count": null,
      "outputs": []
    },
    {
      "cell_type": "code",
      "source": [
        "s = \"this is a string\"\n",
        "\n",
        "for idx in range(len(s)):\n",
        "  if s[idx] == \"a\":\n",
        "    print('Letter a found')\n",
        "    break"
      ],
      "metadata": {
        "colab": {
          "base_uri": "https://localhost:8080/"
        },
        "id": "_zjQR61r5LSG",
        "outputId": "9e73d3fd-cd4b-4235-9ce9-1c88f044af2f"
      },
      "execution_count": null,
      "outputs": [
        {
          "output_type": "stream",
          "name": "stdout",
          "text": [
            "Letter a found\n"
          ]
        }
      ]
    },
    {
      "cell_type": "code",
      "source": [
        "Number = input('Provide an Integer: ')\n",
        "while Number != 0:\n",
        "  append()\n",
        "\n"
      ],
      "metadata": {
        "id": "gYBGEbPPIq50"
      },
      "execution_count": null,
      "outputs": []
    },
    {
      "cell_type": "code",
      "source": [
        "L = []\n",
        "\n",
        "item = int(input('Give a value: '))\n",
        "while item != 0:\n",
        "  L.append(item)\n",
        "  item = int(input('Give a value: '))\n",
        "print(L)"
      ],
      "metadata": {
        "colab": {
          "base_uri": "https://localhost:8080/"
        },
        "id": "q2BM8tmBJwIr",
        "outputId": "5f5d9032-c3dc-43b9-c1ed-6d79452d78f8"
      },
      "execution_count": null,
      "outputs": [
        {
          "output_type": "stream",
          "name": "stdout",
          "text": [
            "Give a value: 8\n",
            "Give a value: 7\n",
            "Give a value: 7\n",
            "Give a value: 0\n",
            "[8, 7, 7]\n"
          ]
        }
      ]
    },
    {
      "cell_type": "code",
      "source": [
        "months = {}\n",
        "\n",
        "names = [\"Jan\", \"Feb\", \"Mar\", \"Apr\", \"May\", \"Jun\", \"Jul\", \"Aug\", \"Sep\", \"Oct\", \"Nov\", \"Dec\"]\n",
        "numbers = [1,2,3,4,5,6,7,8,9,10,11,12]\n",
        "\n",
        "for n in range (1,4):\n",
        "  months[n] = names[n-1]\n",
        "\n",
        "print(months)"
      ],
      "metadata": {
        "colab": {
          "base_uri": "https://localhost:8080/"
        },
        "id": "FMJWvnR3vgJj",
        "outputId": "19ba0b5b-1bde-41fb-bbf5-0e0b352da67f"
      },
      "execution_count": 23,
      "outputs": [
        {
          "output_type": "stream",
          "name": "stdout",
          "text": [
            "{1: 'Jan', 2: 'Feb', 3: 'Mar'}\n"
          ]
        }
      ]
    }
  ]
}