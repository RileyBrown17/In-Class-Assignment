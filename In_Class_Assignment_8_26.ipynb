{
  "nbformat": 4,
  "nbformat_minor": 0,
  "metadata": {
    "colab": {
      "provenance": [],
      "authorship_tag": "ABX9TyNtqtbFm9g4CVoPe61D0lDL",
      "include_colab_link": true
    },
    "kernelspec": {
      "name": "python3",
      "display_name": "Python 3"
    },
    "language_info": {
      "name": "python"
    }
  },
  "cells": [
    {
      "cell_type": "markdown",
      "metadata": {
        "id": "view-in-github",
        "colab_type": "text"
      },
      "source": [
        "<a href=\"https://colab.research.google.com/github/RileyBrown17/In-Class-Assignment/blob/main/In_Class_Assignment_8_26.ipynb\" target=\"_parent\"><img src=\"https://colab.research.google.com/assets/colab-badge.svg\" alt=\"Open In Colab\"/></a>"
      ]
    },
    {
      "cell_type": "code",
      "source": [
        "r = 3\n",
        "pi = 3.14\n",
        "h = 10\n",
        "\n",
        "Area = 2 * pi * r ** 2 + 2 * pi * r * h\n",
        "print ( Area )"
      ],
      "metadata": {
        "id": "UtBEhl3wh_Ev"
      },
      "execution_count": null,
      "outputs": []
    },
    {
      "cell_type": "code",
      "source": [
        "Game = input('Would you like to play Rock Paper Scissors (Y/N): ')\n",
        "\n",
        "while Game == 'Y':\n",
        "  P1 = input ('Player 1 Rock, Paper, or Scissors: ')\n",
        "  P2 = input ('Player 2 Rock, Paper, or Scissors: ')\n",
        "\n",
        "  if P1 == P2 :\n",
        "    print('Draw')\n",
        "  elif P1 == 'Rock':\n",
        "    if P2 == 'Scissors':\n",
        "      print ('P1 Wins')\n",
        "    elif P2 == 'Paper':\n",
        "      print ('P2 Wins')\n",
        "  elif P1 == 'Scissors':\n",
        "    if P2 == 'Paper':\n",
        "     print ('P1 Wins')\n",
        "    elif P2 == 'Rock':\n",
        "      print ('P2 Wins')\n",
        "  elif P1 == 'Paper':\n",
        "    if P2 == 'Rock':\n",
        "      print ('P1 Wins')\n",
        "    elif P2 == 'Scissors':\n",
        "      print ('P2 Wins')\n",
        "  Game = input('Would you like to play again (Y/N): ')"
      ],
      "metadata": {
        "id": "Z6VhX8fRh_oh"
      },
      "execution_count": null,
      "outputs": []
    },
    {
      "cell_type": "code",
      "source": [
        "Number1 = input('Number 1: ')\n",
        "Number2 = input('Number 2: ')\n",
        "Action = input('+, -, *, /, **: ')\n",
        "number1 = float(Number1)\n",
        "number2 = float(Number2)\n",
        "\n",
        "\n",
        "if Action == '+':\n",
        "  Result1 = number1 + number2\n",
        "  print(Result1)\n",
        "elif Action == \"-\":\n",
        "  Result2 = number1 - number2\n",
        "  print(Result2)\n",
        "elif Action == \"*\":\n",
        "  Result3 = number1 * number2\n",
        "  print(Result3)\n",
        "elif Action == \"/\":\n",
        "  Result4 = number1 / number2\n",
        "  print(Result4)\n",
        "elif Action == \"**\":\n",
        "  Result5 = number1 ** number2\n",
        "  print(Result5)\n",
        "else:\n",
        "  print('Error')"
      ],
      "metadata": {
        "id": "ZyfR65WMiB3Z"
      },
      "execution_count": null,
      "outputs": []
    },
    {
      "cell_type": "code",
      "source": [
        "flat = 5\n",
        "hourly = 2.5\n",
        "\n",
        "for h in range (1,9):\n",
        "  cost = flat + hourly * h\n",
        "  if cost < 10:\n",
        "    print(h, '10.0')\n",
        "  elif cost > 20:\n",
        "    print(h,'20.0')\n",
        "  else:\n",
        "    print(h, cost)"
      ],
      "metadata": {
        "id": "tuqBkXEciEbJ"
      },
      "execution_count": null,
      "outputs": []
    },
    {
      "cell_type": "code",
      "source": [
        "for ads in range (0,201,25):\n",
        "  Nticket= 20 + 2 * round(ads ** .5)\n",
        "  profit = Nticket * 10 - ads - 200\n",
        "  print(ads, profit)"
      ],
      "metadata": {
        "id": "eUwGdCHNiGVh"
      },
      "execution_count": null,
      "outputs": []
    },
    {
      "cell_type": "code",
      "source": [
        "months = {}\n",
        "\n",
        "names = [\"Jan\", \"Feb\", \"Mar\", \"Apr\", \"May\", \"Jun\", \"Jul\", \"Aug\", \"Sep\", \"Oct\", \"Nov\", \"Dec\"]\n",
        "numbers = [1,2,3,4,5,6,7,8,9,10,11,12]\n",
        "\n",
        "for n in range (1,4):\n",
        "  months[n] = names[n-1]\n",
        "\n",
        "print(months)"
      ],
      "metadata": {
        "id": "dumRF3swiIL7"
      },
      "execution_count": null,
      "outputs": []
    },
    {
      "cell_type": "code",
      "source": [
        "def calcFee(hours, decimals=2):\n",
        "  parkingFee = 5 + 2.5*(hours)\n",
        "  parkingFee = round(parkingFee, decimals)\n",
        "  return parkingFee\n",
        "\n",
        "def displayFee(parkingFee):\n",
        "  print(parkingFee)\n",
        "\n",
        "hours = int(input('How many hours parked: '))\n",
        "parkingFee = calcFee(hours)\n",
        "displayFee(parkingFee)"
      ],
      "metadata": {
        "id": "HbNCnJUIiJwq"
      },
      "execution_count": null,
      "outputs": []
    },
    {
      "cell_type": "code",
      "source": [
        "def Rs(s):\n",
        "  if len(s) ==1:\n",
        "    return s\n",
        "  else:\n",
        "    return s[-1] + Rs(s[:-1])\n",
        "\n",
        "Rs('hello')"
      ],
      "metadata": {
        "id": "8qFgQljiiNI_"
      },
      "execution_count": null,
      "outputs": []
    },
    {
      "cell_type": "code",
      "source": [
        "class Student:\n",
        "  def __init__(self, name, number, courses):\n",
        "    self.name = name\n",
        "    self.number = number\n",
        "    self.courses = []\n",
        "\n",
        "  def Named(self):\n",
        "    print(f'Name: {self.name}')\n",
        "\n",
        "  def Numbered(self):\n",
        "    print(f'Number: {self.number}')\n",
        "\n",
        "  def get_name(self):\n",
        "    return self.name\n",
        "\n",
        "  def __repr__(self):\n",
        "    return self.__name\n",
        "\n",
        "  def enroll(self, courses):\n",
        "    if courses not in self.courses:\n",
        "      self.courses.append(courses)\n",
        "\n",
        "  def get_courses(self):\n",
        "      return self.courses"
      ],
      "metadata": {
        "id": "YJ8iWlJ_iO5l"
      },
      "execution_count": null,
      "outputs": []
    }
  ]
}