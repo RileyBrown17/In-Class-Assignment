{
  "nbformat": 4,
  "nbformat_minor": 0,
  "metadata": {
    "colab": {
      "provenance": [],
      "authorship_tag": "ABX9TyPFWb9smNK39MAFymLUCS4q",
      "include_colab_link": true
    },
    "kernelspec": {
      "name": "python3",
      "display_name": "Python 3"
    },
    "language_info": {
      "name": "python"
    }
  },
  "cells": [
    {
      "cell_type": "markdown",
      "metadata": {
        "id": "view-in-github",
        "colab_type": "text"
      },
      "source": [
        "<a href=\"https://colab.research.google.com/github/RileyBrown17/In-Class-Assignment/blob/main/In_Class_Assignment_8_26.ipynb\" target=\"_parent\"><img src=\"https://colab.research.google.com/assets/colab-badge.svg\" alt=\"Open In Colab\"/></a>"
      ]
    },
    {
      "cell_type": "code",
      "execution_count": null,
      "metadata": {
        "colab": {
          "base_uri": "https://localhost:8080/"
        },
        "id": "UXPbWmlrfnMG",
        "outputId": "84118b1a-a015-4e00-b8e1-c5cf9d987d6f"
      },
      "outputs": [
        {
          "output_type": "stream",
          "name": "stdout",
          "text": [
            "244.92000000000002\n"
          ]
        }
      ],
      "source": [
        "r = 3\n",
        "pi = 3.14\n",
        "h = 10\n",
        "\n",
        "Area = 2 * pi * r ** 2 + 2 * pi * r * h\n",
        "print ( Area )"
      ]
    },
    {
      "cell_type": "code",
      "source": [
        "P1 = input ('Player 1 Rock, Paper, or Scissors: ')\n",
        "P2 = input ('Player 2 Rock, Paper, or Scissors: ')\n",
        "\n",
        "if P1 == P2 :\n",
        "  print('Draw')\n",
        "elif P1 == 'Rock':\n",
        "  if P2 == 'Scissors':\n",
        "    print ('P1 Wins')\n",
        "  elif P2 == 'Paper':\n",
        "    print ('P2 Wins')\n",
        "elif P1 == 'Scissors':\n",
        "  if P2 == 'Paper':\n",
        "    print ('P1 Wins')\n",
        "  elif P2 == 'Rock':\n",
        "    print ('P2 Wins')\n",
        "elif P1 == 'Paper':\n",
        "  if P2 == 'Rock':\n",
        "    print ('P1 Wins')\n",
        "  elif P2 == 'Scissors':\n",
        "    print ('P2 Wins')"
      ],
      "metadata": {
        "id": "XdIGGvhzy49E",
        "colab": {
          "base_uri": "https://localhost:8080/"
        },
        "outputId": "f6379919-fd2a-4d91-cee4-1f36523e8de9"
      },
      "execution_count": null,
      "outputs": [
        {
          "output_type": "stream",
          "name": "stdout",
          "text": [
            "Player 1 Rock, Paper, or Scissors: Rock\n",
            "Player 2 Rock, Paper, or Scissors: Scissors\n",
            "P1 Wins\n"
          ]
        }
      ]
    },
    {
      "cell_type": "code",
      "source": [
        "Number1 = input('Number 1: ')\n",
        "Number2 = input('Number 2: ')\n",
        "Action = input('+, -, *, /, **: ')\n",
        "number1 = float(Number1)\n",
        "number2 = float(Number2)\n",
        "\n",
        "\n",
        "if Action == '+':\n",
        "  Result1 = number1 + number2\n",
        "  print(Result1)\n",
        "elif Action == \"-\":\n",
        "  Result2 = number1 - number2\n",
        "  print(Result2)\n",
        "elif Action == \"*\":\n",
        "  Result3 = number1 * number2\n",
        "  print(Result3)\n",
        "elif Action == \"/\":\n",
        "  Result4 = number1 / number2\n",
        "  print(Result4)\n",
        "elif Action == \"**\":\n",
        "  Result5 = number1 ** number2\n",
        "  print(Result5)\n",
        "else:\n",
        "  print('Error')\n",
        "\n",
        "\n"
      ],
      "metadata": {
        "id": "_NWJcWfa0ISF",
        "colab": {
          "base_uri": "https://localhost:8080/"
        },
        "outputId": "d4e5c85d-e730-4ebd-91c4-96859d6b659e"
      },
      "execution_count": null,
      "outputs": [
        {
          "output_type": "stream",
          "name": "stdout",
          "text": [
            "Number 1: 4\n",
            "Number 2: 8\n",
            "+, -, *, /, **: *\n",
            "32.0\n"
          ]
        }
      ]
    },
    {
      "cell_type": "code",
      "source": [
        "Game = input('Would you like to play Rock Paper Scissors (Y/N): ')\n",
        "\n",
        "while Game == 'Y':\n",
        "  P1 = input ('Player 1 Rock, Paper, or Scissors: ')\n",
        "  P2 = input ('Player 2 Rock, Paper, or Scissors: ')\n",
        "\n",
        "  if P1 == P2 :\n",
        "    print('Draw')\n",
        "  elif P1 == 'Rock':\n",
        "    if P2 == 'Scissors':\n",
        "      print ('P1 Wins')\n",
        "    elif P2 == 'Paper':\n",
        "      print ('P2 Wins')\n",
        "  elif P1 == 'Scissors':\n",
        "    if P2 == 'Paper':\n",
        "     print ('P1 Wins')\n",
        "    elif P2 == 'Rock':\n",
        "      print ('P2 Wins')\n",
        "  elif P1 == 'Paper':\n",
        "    if P2 == 'Rock':\n",
        "      print ('P1 Wins')\n",
        "    elif P2 == 'Scissors':\n",
        "      print ('P2 Wins')\n",
        "  Game = input('Would you like to play again (Y/N): ')"
      ],
      "metadata": {
        "id": "pQ2z3uJR-aDU",
        "colab": {
          "base_uri": "https://localhost:8080/"
        },
        "outputId": "94f1f6f0-db75-49c5-bd7e-e2b2bc59ec0c"
      },
      "execution_count": 3,
      "outputs": [
        {
          "name": "stdout",
          "output_type": "stream",
          "text": [
            "Would you like to play Rock Paper Scissors (Y/N): Y\n",
            "Player 1 Rock, Paper, or Scissors: Paper\n",
            "Player 2 Rock, Paper, or Scissors: Rock\n",
            "P1 Wins\n",
            "Would you like to play again (Y/N): N\n"
          ]
        }
      ]
    }
  ]
}